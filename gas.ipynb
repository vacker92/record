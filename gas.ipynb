{
 "cells": [
  {
   "cell_type": "code",
   "execution_count": 1,
   "id": "3bdf5e50",
   "metadata": {},
   "outputs": [],
   "source": [
    "import pandas as pd\n",
    "\n",
    "gas = pd.read_excel('https://github.com/vacker92/record/blob/main/data/gas.xlsx?raw=true', sheet_name='gas')\n",
    "gas_time = pd.read_excel('https://github.com/vacker92/record/blob/main/data/gas.xlsx?raw=true', sheet_name='gas_time')\n",
    "gas_time_weather = pd.read_excel('https://github.com/vacker92/record/blob/main/data/gas.xlsx?raw=true', sheet_name='gas_time_weather')\n",
    "train = pd.read_excel('https://github.com/vacker92/record/blob/main/data/gas.xlsx?raw=true', sheet_name='train')\n",
    "test = pd.read_excel('https://github.com/vacker92/record/blob/main/data/gas.xlsx?raw=true', sheet_name='test')"
   ]
  },
  {
   "cell_type": "markdown",
   "id": "b20447dc",
   "metadata": {},
   "source": [
    "#### 데이터 전처리 (컬럼명변겅, month, weekday 컬럼추가)"
   ]
  },
  {
   "cell_type": "code",
   "execution_count": 2,
   "id": "3d01cc31",
   "metadata": {},
   "outputs": [],
   "source": [
    "gas.columns = ['date', 'time', 'etc','supply']\n",
    "gas_time.columns = ['date','time','supply']\n",
    "gas_time_weather.columns = ['date','time','supply','weather']\n",
    "train.columns = ['date','time','supply','weather']\n",
    "test.columns = ['date','time','supply','weather']"
   ]
  },
  {
   "cell_type": "code",
   "execution_count": 3,
   "id": "1a3f418d",
   "metadata": {},
   "outputs": [],
   "source": [
    "gas_time['month'] = gas_time['date'].dt.month\n",
    "gas_time['weekday'] = gas_time['date'].dt.weekday\n",
    "\n",
    "gas_time_weather['month'] = gas_time_weather['date'].dt.month\n",
    "gas_time_weather['weekday'] = gas_time_weather['date'].dt.weekday\n",
    "\n",
    "train['month'] = train['date'].dt.month\n",
    "train['weekday'] = train['date'].dt.weekday\n",
    "\n",
    "test['month'] = test['date'].dt.month\n",
    "test['weekday'] = test['date'].dt.weekday"
   ]
  },
  {
   "cell_type": "markdown",
   "id": "be73d85a",
   "metadata": {},
   "source": [
    "#### 인덱스 시간 추가"
   ]
  },
  {
   "cell_type": "code",
   "execution_count": 4,
   "id": "0fbf077e",
   "metadata": {},
   "outputs": [],
   "source": [
    "gas_time['time']=gas_time['time'].apply(lambda x:'{:02d}'.format(x))\n",
    "gas_time['time']=gas_time['time']=gas_time['time'].astype(str)\n",
    "gas_time['time']=gas_time['time'].apply(lambda x:x+':00')\n",
    "gas_time['time'].replace('24:00','00:00',inplace=True)\n",
    "gas_time['time']=pd.to_datetime(gas_time['time'],format='%H:%M')\n",
    "gas_time['time']=gas_time['time'].dt.time\n",
    "gas_time['date']=gas_time['date'].astype(str)\n",
    "\n",
    "gas_time_weather['time']=gas_time_weather['time'].apply(lambda x:'{:02d}'.format(x))\n",
    "gas_time_weather['time']=gas_time_weather['time']=gas_time_weather['time'].astype(str)\n",
    "gas_time_weather['time']=gas_time_weather['time'].apply(lambda x:x+':00')\n",
    "gas_time_weather['time'].replace('24:00','00:00',inplace=True)\n",
    "gas_time_weather['time']=pd.to_datetime(gas_time_weather['time'],format='%H:%M')\n",
    "gas_time_weather['time']=gas_time_weather['time'].dt.time\n",
    "gas_time_weather['date']=gas_time_weather['date'].astype(str)\n",
    "\n",
    "train['time']=train['time'].apply(lambda x:'{:02d}'.format(x))\n",
    "train['time']=train['time']=train['time'].astype(str)\n",
    "train['time']=train['time'].apply(lambda x:x+':00')\n",
    "train['time'].replace('24:00','00:00',inplace=True)\n",
    "train['time']=pd.to_datetime(train['time'],format='%H:%M')\n",
    "train['time']=train['time'].dt.time\n",
    "train['date']=train['date'].astype(str)\n",
    "\n",
    "test['time']=test['time'].apply(lambda x:'{:02d}'.format(x))\n",
    "test['time']=test['time']=test['time'].astype(str)\n",
    "test['time']=test['time'].apply(lambda x:x+':00')\n",
    "test['time'].replace('24:00','00:00',inplace=True)\n",
    "test['time']=pd.to_datetime(test['time'],format='%H:%M')\n",
    "test['time']=test['time'].dt.time\n",
    "test['date']=test['date'].astype(str)"
   ]
  },
  {
   "cell_type": "code",
   "execution_count": 5,
   "id": "9ad26788",
   "metadata": {},
   "outputs": [],
   "source": [
    "cols=['date','time']\n",
    "gas_time['date']=gas_time[cols].apply(lambda x: ' '.join(x.values.astype(str)), axis=1)\n",
    "gas_time['date']=pd.to_datetime(gas_time['date'])\n",
    "gas_time['time']=gas_time['time'].apply(lambda x:x.strftime('%H'))\n",
    "gas_time['time']=gas_time['time'].str.replace('00','24')\n",
    "gas_time['time']=gas_time['time'].astype('int64')\n",
    "\n",
    "cols=['date','time']\n",
    "gas_time_weather['date']=gas_time_weather[cols].apply(lambda x: ' '.join(x.values.astype(str)), axis=1)\n",
    "gas_time_weather['date']=pd.to_datetime(gas_time_weather['date'])\n",
    "gas_time_weather['time']=gas_time_weather['time'].apply(lambda x:x.strftime('%H'))\n",
    "gas_time_weather['time']=gas_time_weather['time'].str.replace('00','24')\n",
    "gas_time_weather['time']=gas_time_weather['time'].astype('int64')\n",
    "\n",
    "cols=['date','time']\n",
    "train['date']=train[cols].apply(lambda x: ' '.join(x.values.astype(str)), axis=1)\n",
    "train['date']=pd.to_datetime(train['date'])\n",
    "train['time']=train['time'].apply(lambda x:x.strftime('%H'))\n",
    "train['time']=train['time'].str.replace('00','24')\n",
    "train['time']=train['time'].astype('int64')\n",
    "\n",
    "cols=['date','time']\n",
    "test['date']=test[cols].apply(lambda x: ' '.join(x.values.astype(str)), axis=1)\n",
    "test['date']=pd.to_datetime(test['date'])\n",
    "test['time']=test['time'].apply(lambda x:x.strftime('%H'))\n",
    "test['time']=test['time'].str.replace('00','24')\n",
    "test['time']=test['time'].astype('int64')"
   ]
  },
  {
   "cell_type": "markdown",
   "id": "7fcfa4c9",
   "metadata": {},
   "source": [
    "#### 인덱스 요일,시간으로 설정"
   ]
  },
  {
   "cell_type": "code",
   "execution_count": 6,
   "id": "cc324905",
   "metadata": {},
   "outputs": [],
   "source": [
    "gas_time = gas_time.set_index('date')\n",
    "gas_time_weather = gas_time_weather.set_index('date')\n",
    "test = test.set_index('date')\n",
    "train = train.set_index('date')"
   ]
  },
  {
   "cell_type": "markdown",
   "id": "1e9c30e9",
   "metadata": {},
   "source": [
    "#### 원본데이터"
   ]
  },
  {
   "cell_type": "code",
   "execution_count": 7,
   "id": "fcdedfe9",
   "metadata": {},
   "outputs": [
    {
     "data": {
      "text/plain": [
       "<AxesSubplot:xlabel='etc', ylabel='supply'>"
      ]
     },
     "execution_count": 7,
     "metadata": {},
     "output_type": "execute_result"
    },
    {
     "data": {
      "image/png": "[encoded data removed]",
      "text/plain": [
       "<Figure size 432x288 with 1 Axes>"
      ]
     },
     "metadata": {
      "needs_background": "light"
     },
     "output_type": "display_data"
    }
   ],
   "source": [
    "import seaborn as sns\n",
    "\n",
    "sns.barplot(y='supply',\n",
    "           x='etc',\n",
    "           data = gas)"
   ]
  },
  {
   "cell_type": "markdown",
   "id": "b8b5335c",
   "metadata": {},
   "source": [
    "#### time 부분 분할 (A-H 평균값)"
   ]
  },
  {
   "cell_type": "code",
   "execution_count": 8,
   "id": "e8139b6e",
   "metadata": {},
   "outputs": [
    {
     "data": {
      "text/plain": [
       "<AxesSubplot:xlabel='month', ylabel='supply'>"
      ]
     },
     "execution_count": 8,
     "metadata": {},
     "output_type": "execute_result"
    },
    {
     "data": {
      "image/png": "[encoded data removed]",
      "text/plain": [
       "<Figure size 432x288 with 1 Axes>"
      ]
     },
     "metadata": {
      "needs_background": "light"
     },
     "output_type": "display_data"
    }
   ],
   "source": [
    "#gas_time = pd.DataFrame(gas.groupby(['date', 'time'])['supply'].mean())\n",
    "sns.barplot(y='supply',\n",
    "           x='month',\n",
    "           data = gas_time)"
   ]
  },
  {
   "cell_type": "markdown",
   "id": "b4e998e7",
   "metadata": {},
   "source": [
    "#### gas_time 상관관계성"
   ]
  },
  {
   "cell_type": "code",
   "execution_count": 9,
   "id": "5054550e",
   "metadata": {},
   "outputs": [
    {
     "data": {
      "text/plain": [
       "<AxesSubplot:>"
      ]
     },
     "execution_count": 9,
     "metadata": {},
     "output_type": "execute_result"
    },
    {
     "data": {
      "image/png": "[encoded data removed]",
      "text/plain": [
       "<Figure size 432x288 with 2 Axes>"
      ]
     },
     "metadata": {
      "needs_background": "light"
     },
     "output_type": "display_data"
    }
   ],
   "source": [
    "import seaborn as sns\n",
    "\n",
    "time_corr = gas_time.corr\n",
    "sns.heatmap(time_corr(), annot=True)"
   ]
  },
  {
   "cell_type": "markdown",
   "id": "463702bd",
   "metadata": {},
   "source": [
    "#### weather추가전 LinearRegression점수 "
   ]
  },
  {
   "cell_type": "code",
   "execution_count": 10,
   "id": "120d211d",
   "metadata": {},
   "outputs": [],
   "source": [
    "split = -8621\n",
    "\n",
    "t_x_train = gas_time[0:split]\n",
    "t_x_train = t_x_train.drop('supply',axis=True)\n",
    "t_y_train = gas_time[0:split]\n",
    "t_y_train = t_y_train['supply']\n",
    "\n",
    "t_x_test = gas_time[split:]\n",
    "t_x_test = t_x_test.drop('supply',axis=True)\n",
    "t_y_test = gas_time[split:]\n",
    "t_y_test = t_y_test['supply']"
   ]
  },
  {
   "cell_type": "code",
   "execution_count": 11,
   "id": "f904e081",
   "metadata": {},
   "outputs": [
    {
     "name": "stdout",
     "output_type": "stream",
     "text": [
      "온도 추가전 정확도 0.07373\n"
     ]
    }
   ],
   "source": [
    "from sklearn.linear_model import LinearRegression\n",
    "from sklearn import metrics\n",
    "\n",
    "time_lr = LinearRegression()\n",
    "time_lr.fit(t_x_train, t_y_train)\n",
    "time_pred = time_lr.predict(t_x_test)\n",
    "time_score = metrics.r2_score(t_y_test, time_pred)\n",
    "print('온도 추가전 정확도 {:.5f}'.format(time_score))"
   ]
  },
  {
   "cell_type": "markdown",
   "id": "56e34733",
   "metadata": {},
   "source": [
    "#### weather 추가"
   ]
  },
  {
   "cell_type": "code",
   "execution_count": 12,
   "id": "782c91c1",
   "metadata": {},
   "outputs": [],
   "source": [
    "#w2013 = pd.read_csv(\"2013.csv\", encoding='cp949', parse_dates=['일시'],usecols=[1,2])\n",
    "#w2014 = pd.read_csv(\"2014.csv\", encoding='cp949', parse_dates=['일시'],usecols=[1,2])\n",
    "#w2015 = pd.read_csv(\"2015.csv\", encoding='cp949', parse_dates=['일시'],usecols=[1,2])\n",
    "#w2016 = pd.read_csv(\"2016.csv\", encoding='cp949', parse_dates=['일시'],usecols=[1,2])\n",
    "#w2017 = pd.read_csv(\"2017.csv\", encoding='cp949', parse_dates=['일시'],usecols=[1,2])\n",
    "#w2018 = pd.read_csv(\"2018.csv\", encoding='cp949', parse_dates=['일시'],usecols=[1,2])\n",
    "# 데이터 합치기\n",
    "#weather = pd.concat([w2013, w2014, w2015, w2016, w2017, w2018])\n",
    "#weather = weather.reset_index(drop=True)\n",
    "\n",
    "#weather.to_csv('weather.csv',header=False,index=False)"
   ]
  },
  {
   "cell_type": "code",
   "execution_count": 13,
   "id": "b05ee4e8",
   "metadata": {},
   "outputs": [
    {
     "data": {
      "text/plain": [
       "<AxesSubplot:>"
      ]
     },
     "execution_count": 13,
     "metadata": {},
     "output_type": "execute_result"
    },
    {
     "data": {
      "image/png": "[encoded data removed]",
      "text/plain": [
       "<Figure size 432x288 with 2 Axes>"
      ]
     },
     "metadata": {
      "needs_background": "light"
     },
     "output_type": "display_data"
    }
   ],
   "source": [
    "weather_corr = gas_time_weather.corr\n",
    "sns.heatmap(weather_corr(), annot=True)"
   ]
  },
  {
   "cell_type": "markdown",
   "id": "ec7f0515",
   "metadata": {},
   "source": [
    "#### Nan값확인 및 제거"
   ]
  },
  {
   "cell_type": "code",
   "execution_count": 14,
   "id": "233f8a4f",
   "metadata": {},
   "outputs": [],
   "source": [
    "train.isnull().sum()\n",
    "test.isnull().sum()\n",
    "train = train.dropna()\n",
    "test = test.dropna()"
   ]
  },
  {
   "cell_type": "markdown",
   "id": "2d8a92a1",
   "metadata": {},
   "source": [
    "#### train, test 분할"
   ]
  },
  {
   "cell_type": "code",
   "execution_count": 15,
   "id": "e2578781",
   "metadata": {},
   "outputs": [],
   "source": [
    "x_train = train.drop(['supply'], axis=1)\n",
    "x_test = test.drop(['supply'], axis=1)\n",
    "y_train = train['supply']\n",
    "y_test = test['supply']"
   ]
  },
  {
   "cell_type": "markdown",
   "id": "14526654",
   "metadata": {},
   "source": [
    "#### 온도추가후 LinearRegression 기반 예측분석 "
   ]
  },
  {
   "cell_type": "code",
   "execution_count": 16,
   "id": "03e583f1",
   "metadata": {},
   "outputs": [
    {
     "name": "stdout",
     "output_type": "stream",
     "text": [
      "온도 추가후 정확도 0.79393\n"
     ]
    }
   ],
   "source": [
    "lr = LinearRegression()\n",
    "lr.fit(x_train, y_train)\n",
    "lr_pred = lr.predict(x_test)\n",
    "lr_score = metrics.r2_score(y_test, lr_pred)\n",
    "print('온도 추가후 정확도 {:.5f}'.format(lr_score))"
   ]
  },
  {
   "cell_type": "code",
   "execution_count": 17,
   "id": "8932c815",
   "metadata": {},
   "outputs": [
    {
     "name": "stdout",
     "output_type": "stream",
     "text": [
      "온도 추가전 정확도 0.07373\n",
      "온도 추가후 정확도 0.79393\n"
     ]
    }
   ],
   "source": [
    "print('온도 추가전 정확도 {:.5f}'.format(time_score))\n",
    "print('온도 추가후 정확도 {:.5f}'.format(lr_score))"
   ]
  },
  {
   "cell_type": "markdown",
   "id": "4b3c2099",
   "metadata": {},
   "source": [
    "#### 여러모델들 적용\n",
    " 1. RandomForestRegressor"
   ]
  },
  {
   "cell_type": "code",
   "execution_count": 18,
   "id": "15333846",
   "metadata": {},
   "outputs": [
    {
     "name": "stdout",
     "output_type": "stream",
     "text": [
      "{'max_depth': 15, 'max_features': 'log2', 'n_estimators': 500}\n",
      "randomforest train score: 0.96940\n",
      "randomforest test sore: 0.96473\n",
      "mae 84.08467\n"
     ]
    }
   ],
   "source": [
    "from sklearn.ensemble import RandomForestRegressor\n",
    "from sklearn.model_selection import GridSearchCV\n",
    "from sklearn.metrics import r2_score\n",
    "from sklearn.metrics import mean_absolute_error\n",
    "\n",
    "param_grid = {'n_estimators':[10,100,500], 'max_features': [ \"sqrt\", \"log2\", \"auto\"],\n",
    "             'max_depth': [10, 15, 20, 25]}\n",
    "\n",
    "rf = RandomForestRegressor()\n",
    "rf_grid = GridSearchCV(rf, param_grid, cv=5, n_jobs=-1)\n",
    "\n",
    "rf_grid.fit(x_train,y_train)\n",
    "print(rf_grid.best_params_)\n",
    "print('randomforest train score: {:.5f}'.format(rf_grid.best_score_))\n",
    "rf_pred = rf_grid.predict(x_test)\n",
    "print('randomforest test sore: {:.5f}'.format(r2_score(y_test,rf_pred)))\n",
    "print('mae {:.5f}'.format(mean_absolute_error(y_test, rf_pred)))"
   ]
  },
  {
   "cell_type": "markdown",
   "id": "5d15298b",
   "metadata": {},
   "source": [
    "2. LGBM"
   ]
  },
  {
   "cell_type": "code",
   "execution_count": 19,
   "id": "805a19d4",
   "metadata": {},
   "outputs": [
    {
     "name": "stdout",
     "output_type": "stream",
     "text": [
      "lgb train score 0.97802\n",
      "lgb test score 0.96663\n",
      "mae 82.43897\n"
     ]
    }
   ],
   "source": [
    "from lightgbm import LGBMRegressor\n",
    "lgb=LGBMRegressor(learning_rate=0.1, max_depth=5, n_estimators=100)\n",
    "lgb.fit(x_train,y_train)\n",
    "\n",
    "print('lgb train score {:.5f}'.format(lgb.score(x_train, y_train)))\n",
    "lgb_pred=lgb.predict(x_test)\n",
    "print('lgb test score {:.5f}'.format(r2_score(y_test,lgb_pred)))\n",
    "print('mae {:.5f}'.format(mean_absolute_error(y_test, lgb_pred)))"
   ]
  },
  {
   "cell_type": "markdown",
   "id": "54fc5be6",
   "metadata": {},
   "source": [
    "3. KNeighborsRegressor (KNN)"
   ]
  },
  {
   "cell_type": "code",
   "execution_count": 20,
   "id": "6fb3db89",
   "metadata": {},
   "outputs": [
    {
     "name": "stdout",
     "output_type": "stream",
     "text": [
      "knn train score 0.99846\n",
      "knn test score 0.95976\n",
      "mae 88.66103\n"
     ]
    }
   ],
   "source": [
    "from sklearn.neighbors import KNeighborsRegressor\n",
    "kn=KNeighborsRegressor(n_neighbors = 5, weights = \"distance\")\n",
    "kn.fit(x_train,y_train)\n",
    "\n",
    "print('knn train score {:.5f}'.format(kn.score(x_train, y_train)))\n",
    "kn_pred=kn.predict(x_test)\n",
    "print('knn test score {:.5f}'.format(r2_score(y_test,kn_pred)))\n",
    "print('mae {:.5f}'.format(mean_absolute_error(y_test, kn_pred)))"
   ]
  },
  {
   "cell_type": "markdown",
   "id": "365fbf17",
   "metadata": {},
   "source": [
    "#### VotingRegressor 투표결과"
   ]
  },
  {
   "cell_type": "code",
   "execution_count": 21,
   "id": "55707826",
   "metadata": {},
   "outputs": [
    {
     "name": "stdout",
     "output_type": "stream",
     "text": [
      "RandomForestRegressor test score : 0.96288\n",
      "LGBMRegressor test score : 0.96663\n",
      "KNeighborsRegressor test score : 0.95976\n",
      "최적의 모델 : LGMBRegressor\n",
      "보팅 회귀모델의 score : 0.96572\n"
     ]
    }
   ],
   "source": [
    "from sklearn.ensemble import VotingRegressor\n",
    "\n",
    "voting=VotingRegressor(estimators=[ ('rf',rf),\n",
    "                                    ('lgb',lgb),\n",
    "                                    ('kn',kn)], n_jobs=-1)\n",
    "\n",
    "voting.fit(x_train,y_train)\n",
    "voting_pred=voting.predict(x_test)\n",
    "\n",
    "for clf in [rf,lgb,kn]:\n",
    "    clf.fit(x_train, y_train)\n",
    "    s=clf.score(x_test, y_test) \n",
    "    n=clf.__class__.__name__\n",
    "    print(n,'test score : {:.5f}'.format(s))\n",
    "\n",
    "print('최적의 모델 : LGMBRegressor')\n",
    "print('보팅 회귀모델의 score : {:.5f}'.format(r2_score(y_test, voting_pred)))"
   ]
  },
  {
   "cell_type": "markdown",
   "id": "e6c432a7",
   "metadata": {},
   "source": [
    "#### 선형회귀 tensorflow기반 예측모델"
   ]
  },
  {
   "cell_type": "code",
   "execution_count": 22,
   "id": "f1f2f1f5",
   "metadata": {},
   "outputs": [],
   "source": [
    "from sklearn.preprocessing import StandardScaler\n",
    "from keras.models import Sequential\n",
    "from keras.layers import Dense\n",
    "from sklearn.metrics import r2_score\n",
    "\n",
    "ss = StandardScaler()\n",
    "d_x_train = ss.fit_transform(x_train)\n",
    "d_x_test = ss.fit_transform(x_test)"
   ]
  },
  {
   "cell_type": "code",
   "execution_count": 23,
   "id": "aa836b51",
   "metadata": {},
   "outputs": [
    {
     "data": {
      "text/plain": [
       "<keras.callbacks.History at 0x158d5fcbd00>"
      ]
     },
     "execution_count": 23,
     "metadata": {},
     "output_type": "execute_result"
    }
   ],
   "source": [
    "model = Sequential()\n",
    "model.add(Dense(120, input_dim=4, activation='relu'))\n",
    "model.add(Dense(60, activation='relu'))\n",
    "model.add(Dense(1))\n",
    "\n",
    "model.compile(loss='mean_squared_error', optimizer='adam')\n",
    "model.fit(d_x_train, y_train, validation_data=(d_x_test, y_test), epochs=100, batch_size=10, verbose=0)"
   ]
  },
  {
   "cell_type": "code",
   "execution_count": 24,
   "id": "48e78f22",
   "metadata": {},
   "outputs": [
    {
     "name": "stdout",
     "output_type": "stream",
     "text": [
      "실제공급량: 1470.313, 예상공급량: 1491.237\n",
      "실제공급량: 1396.057, 예상공급량: 1310.862\n",
      "실제공급량: 1337.100, 예상공급량: 1197.809\n",
      "실제공급량: 1325.318, 예상공급량: 1220.894\n",
      "실제공급량: 1398.112, 예상공급량: 1347.924\n",
      "실제공급량: 1424.857, 예상공급량: 1518.717\n",
      "실제공급량: 1487.871, 예상공급량: 1801.245\n",
      "실제공급량: 1634.397, 예상공급량: 2149.733\n",
      "실제공급량: 1816.253, 예상공급량: 2237.424\n",
      "실제공급량: 1852.121, 예상공급량: 2121.228\n",
      "Sequential score 0.94825\n"
     ]
    }
   ],
   "source": [
    "y_prediction = model.predict(d_x_test).flatten()\n",
    "for i in range(10):\n",
    "    label = y_test[i]\n",
    "    prediction = y_prediction[i]\n",
    "    print(\"실제공급량: {:.3f}, 예상공급량: {:.3f}\".format(label, prediction))\n",
    "\n",
    "print('Sequential score {:.5f}'.format(r2_score(y_test,y_prediction)))  "
   ]
  },
  {
   "cell_type": "code",
   "execution_count": 25,
   "id": "17fa9244",
   "metadata": {},
   "outputs": [],
   "source": [
    "gas_time_weather = gas_time_weather.dropna()"
   ]
  },
  {
   "cell_type": "code",
   "execution_count": 26,
   "id": "655499a7",
   "metadata": {},
   "outputs": [
    {
     "data": {
      "text/plain": [
       "time       0\n",
       "supply     0\n",
       "weather    0\n",
       "month      0\n",
       "weekday    0\n",
       "dtype: int64"
      ]
     },
     "execution_count": 26,
     "metadata": {},
     "output_type": "execute_result"
    }
   ],
   "source": [
    "gas_time_weather.isnull().sum()"
   ]
  },
  {
   "cell_type": "markdown",
   "id": "b5149639",
   "metadata": {},
   "source": [
    "#### LSTM을 이용한 예측\n",
    "1. 스케일링 전 이상치 확인"
   ]
  },
  {
   "cell_type": "code",
   "execution_count": 27,
   "id": "06dca714",
   "metadata": {},
   "outputs": [
    {
     "data": {
      "image/png": "[encoded data removed]",
      "text/plain": [
       "<Figure size 432x288 with 1 Axes>"
      ]
     },
     "metadata": {
      "needs_background": "light"
     },
     "output_type": "display_data"
    }
   ],
   "source": [
    "bplot= sns.boxplot(y='supply', \n",
    "                   x='time',\n",
    "                   data=gas_time_weather)"
   ]
  },
  {
   "cell_type": "markdown",
   "id": "d06a7dfa",
   "metadata": {},
   "source": [
    "2. 이상치제거"
   ]
  },
  {
   "cell_type": "code",
   "execution_count": 28,
   "id": "2eeca263",
   "metadata": {},
   "outputs": [],
   "source": [
    "quartile_1 = gas_time_weather.quantile(0.25)\n",
    "quartile_3 = gas_time_weather.quantile(0.75)\n",
    "IQR = quartile_3 - quartile_1\n",
    "condition = (gas_time_weather < (quartile_1 - 1.5 * IQR)) | (gas_time_weather > (quartile_3 + 1.5 * IQR))\n",
    "condition = condition.any(axis=1)\n",
    "condition = ~ condition\n",
    "gas_time_weather = gas_time_weather[condition]"
   ]
  },
  {
   "cell_type": "markdown",
   "id": "81694c60",
   "metadata": {},
   "source": [
    "3. 이상치 재확인"
   ]
  },
  {
   "cell_type": "code",
   "execution_count": 29,
   "id": "0b15b249",
   "metadata": {},
   "outputs": [
    {
     "data": {
      "image/png": "[encoded data removed]",
      "text/plain": [
       "<Figure size 432x288 with 1 Axes>"
      ]
     },
     "metadata": {
      "needs_background": "light"
     },
     "output_type": "display_data"
    }
   ],
   "source": [
    "bplot= sns.boxplot(y='supply', \n",
    "                   x='time',\n",
    "                   data=gas_time_weather)"
   ]
  },
  {
   "cell_type": "markdown",
   "id": "55f1ff83",
   "metadata": {},
   "source": [
    "4. 표준정규화"
   ]
  },
  {
   "cell_type": "code",
   "execution_count": 30,
   "id": "8beb627a",
   "metadata": {},
   "outputs": [],
   "source": [
    "scaler = StandardScaler()\n",
    "scale_cols = ['time', 'supply', 'weather', 'month', 'weekday']\n",
    "scaled_df = scaler.fit_transform(gas_time_weather[scale_cols])\n",
    "scaled_df = pd.DataFrame(scaled_df, columns=scale_cols)\n",
    "scaled_df.index = gas_time_weather.index"
   ]
  },
  {
   "cell_type": "markdown",
   "id": "234be65d",
   "metadata": {},
   "source": [
    "5.입력데이터 feature_cols, 정답데이터 label_cols 생성"
   ]
  },
  {
   "cell_type": "code",
   "execution_count": 31,
   "id": "bcf46373",
   "metadata": {},
   "outputs": [],
   "source": [
    "feature_cols = ['time',  'weather', 'month', 'weekday']\n",
    "label_cols = ['supply']\n",
    "label_df = pd.DataFrame(scaled_df, columns=label_cols)\n",
    "feature_df = pd.DataFrame(scaled_df, columns=feature_cols)\n",
    "label_np = label_df.to_numpy()\n",
    "feature_np = feature_df.to_numpy()"
   ]
  },
  {
   "cell_type": "markdown",
   "id": "bd0102af",
   "metadata": {},
   "source": [
    "6. 입력파라미터 feature, label -> numpy type make_sequene_dataset 함수 생성"
   ]
  },
  {
   "cell_type": "code",
   "execution_count": 32,
   "id": "e4ad862e",
   "metadata": {},
   "outputs": [],
   "source": [
    "def make_sequene_dataset (feature, label, window_size) :\n",
    "    feature_list = []\n",
    "    label_list = []\n",
    "    \n",
    "    for i in range(len(feature)-window_size):\n",
    "        feature_list.append(feature[i:i+window_size])\n",
    "        label_list.append(label[i+window_size])\n",
    "        \n",
    "    return np.array(feature_list), np.array(label_list)"
   ]
  },
  {
   "cell_type": "markdown",
   "id": "7559533e",
   "metadata": {},
   "source": [
    "7.입력데이터x, 정답데이터y 생성  \n",
    "리턴되는 입력데이터(x.shape)는 batch size, time steps, input dims를 가지고 있는 3차원"
   ]
  },
  {
   "cell_type": "code",
   "execution_count": 33,
   "id": "cbe68745",
   "metadata": {},
   "outputs": [
    {
     "name": "stdout",
     "output_type": "stream",
     "text": [
      "(52259, 40, 4) (52259, 1)\n"
     ]
    }
   ],
   "source": [
    "import numpy as np\n",
    "\n",
    "window_size = 40\n",
    "\n",
    "x,y = make_sequene_dataset(feature_np, label_np, window_size)\n",
    "print(x.shape, y.shape)"
   ]
  },
  {
   "cell_type": "markdown",
   "id": "eaa5eb83",
   "metadata": {},
   "source": [
    "8. test, train 분할"
   ]
  },
  {
   "cell_type": "code",
   "execution_count": 34,
   "id": "36b9db8c",
   "metadata": {},
   "outputs": [
    {
     "name": "stdout",
     "output_type": "stream",
     "text": [
      "(43638, 40, 4) (43638, 1)\n",
      "(8621, 40, 4) (8621, 1)\n"
     ]
    }
   ],
   "source": [
    "split = -8621\n",
    "\n",
    "lstm_x_train = x[0:split]\n",
    "lstm_y_train = y[0:split]\n",
    "\n",
    "lstm_x_test = x[split:]\n",
    "lstm_y_test = y[split:]\n",
    "\n",
    "print(lstm_x_train.shape, lstm_y_train.shape)\n",
    "print(lstm_x_test.shape, lstm_y_test.shape)"
   ]
  },
  {
   "cell_type": "code",
   "execution_count": 35,
   "id": "e13d2b4d",
   "metadata": {},
   "outputs": [],
   "source": [
    "import tensorflow as tf\n",
    "from tensorflow.keras.models import Sequential\n",
    "from tensorflow.keras.layers import LSTM, Dense, Dropout\n",
    "from tensorflow.keras.callbacks import EarlyStopping"
   ]
  },
  {
   "cell_type": "markdown",
   "id": "1f953e40",
   "metadata": {},
   "source": [
    "9. 256개의 노드를 가지는 lstm레이어와 1개의 노드를 가지는 출력층으로 구성"
   ]
  },
  {
   "cell_type": "code",
   "execution_count": 36,
   "id": "c996778f",
   "metadata": {},
   "outputs": [
    {
     "name": "stdout",
     "output_type": "stream",
     "text": [
      "Model: \"sequential_1\"\n",
      "_________________________________________________________________\n",
      " Layer (type)                Output Shape              Param #   \n",
      "=================================================================\n",
      " lstm (LSTM)                 (None, 256)               267264    \n",
      "                                                                 \n",
      " dense_3 (Dense)             (None, 1)                 257       \n",
      "                                                                 \n",
      "=================================================================\n",
      "Total params: 267,521\n",
      "Trainable params: 267,521\n",
      "Non-trainable params: 0\n",
      "_________________________________________________________________\n"
     ]
    }
   ],
   "source": [
    "lstm_model = Sequential()\n",
    "\n",
    "lstm_model.add(LSTM(256,\n",
    "              activation='tanh',\n",
    "              input_shape=lstm_x_train[0].shape))\n",
    "lstm_model.add(Dense(1, activation='linear'))\n",
    "lstm_model.summary()"
   ]
  },
  {
   "cell_type": "markdown",
   "id": "17ba19ea",
   "metadata": {},
   "source": [
    "10.손실함수 loss=mse , 옵티마이저는 adam, 관찰대상인 metric은 오차의 절대값을 나타내는 mae 로 설정"
   ]
  },
  {
   "cell_type": "code",
   "execution_count": 37,
   "id": "4983d1f8",
   "metadata": {},
   "outputs": [
    {
     "name": "stdout",
     "output_type": "stream",
     "text": [
      "Epoch 1/100\n",
      "2182/2182 [==============================] - 14s 5ms/step - loss: 0.0384 - mae: 0.1349 - val_loss: 0.0377 - val_mae: 0.1396\n",
      "Epoch 2/100\n",
      "2182/2182 [==============================] - 11s 5ms/step - loss: 0.0227 - mae: 0.1049 - val_loss: 0.0289 - val_mae: 0.1263\n",
      "Epoch 3/100\n",
      "2182/2182 [==============================] - 11s 5ms/step - loss: 0.0199 - mae: 0.0977 - val_loss: 0.0296 - val_mae: 0.1344\n",
      "Epoch 4/100\n",
      "2182/2182 [==============================] - 11s 5ms/step - loss: 0.0177 - mae: 0.0916 - val_loss: 0.0243 - val_mae: 0.1145\n",
      "Epoch 5/100\n",
      "2182/2182 [==============================] - 11s 5ms/step - loss: 0.0164 - mae: 0.0883 - val_loss: 0.0317 - val_mae: 0.1410\n",
      "Epoch 6/100\n",
      "2182/2182 [==============================] - 11s 5ms/step - loss: 0.0155 - mae: 0.0855 - val_loss: 0.0277 - val_mae: 0.1221\n",
      "Epoch 7/100\n",
      "2182/2182 [==============================] - 11s 5ms/step - loss: 0.0149 - mae: 0.0834 - val_loss: 0.0259 - val_mae: 0.1174\n",
      "Epoch 8/100\n",
      "2182/2182 [==============================] - 11s 5ms/step - loss: 0.0142 - mae: 0.0813 - val_loss: 0.0270 - val_mae: 0.1277\n",
      "Epoch 9/100\n",
      "2182/2182 [==============================] - 11s 5ms/step - loss: 0.0138 - mae: 0.0800 - val_loss: 0.0279 - val_mae: 0.1274\n"
     ]
    },
    {
     "data": {
      "text/plain": [
       "<keras.callbacks.History at 0x158f8bc1d60>"
      ]
     },
     "execution_count": 37,
     "metadata": {},
     "output_type": "execute_result"
    }
   ],
   "source": [
    "lstm_model.compile(loss='mse', optimizer='adam', metrics=['mae'])\n",
    "early_stop = EarlyStopping(monitor = 'val_loss', patience=5)\n",
    "\n",
    "lstm_model.fit(lstm_x_train, lstm_y_train, \n",
    "          validation_data=(lstm_x_test, lstm_y_test), epochs=100, batch_size=20, callbacks=[early_stop])"
   ]
  },
  {
   "cell_type": "code",
   "execution_count": 38,
   "id": "f7fc44c1",
   "metadata": {},
   "outputs": [
    {
     "name": "stdout",
     "output_type": "stream",
     "text": [
      "lstm test score 0.97103\n"
     ]
    }
   ],
   "source": [
    "lstm_pred = lstm_model.predict(lstm_x_test)\n",
    "print('lstm test score {:.5f}'.format(r2_score(lstm_pred, lstm_y_test)))"
   ]
  },
  {
   "cell_type": "code",
   "execution_count": 39,
   "id": "8ece099b",
   "metadata": {},
   "outputs": [
    {
     "name": "stdout",
     "output_type": "stream",
     "text": [
      "lstm mae 0.12744\n"
     ]
    }
   ],
   "source": [
    "print('lstm mae {:.5f}'.format(mean_absolute_error(lstm_pred, lstm_y_test)))"
   ]
  },
  {
   "cell_type": "code",
   "execution_count": 40,
   "id": "1485e375",
   "metadata": {},
   "outputs": [
    {
     "name": "stdout",
     "output_type": "stream",
     "text": [
      "lstm mse 0.02790\n"
     ]
    }
   ],
   "source": [
    "from sklearn.metrics import mean_squared_error\n",
    "\n",
    "print('lstm mse {:.5f}'.format(mean_squared_error(lstm_pred, lstm_y_test)))"
   ]
  },
  {
   "cell_type": "code",
   "execution_count": 41,
   "id": "5e27cd94",
   "metadata": {},
   "outputs": [
    {
     "name": "stdout",
     "output_type": "stream",
     "text": [
      "온도 추가전 LinearRegression 0.07373\n",
      "온도 추가후 LinearRegression 0.79393\n",
      "tenserfolw  LinearRegression 0.94825\n"
     ]
    }
   ],
   "source": [
    "print('온도 추가전 LinearRegression {:.5f}'.format(time_score))\n",
    "print('온도 추가후 LinearRegression {:.5f}'.format(lr_score))\n",
    "print('tenserfolw  LinearRegression {:.5f}'.format(r2_score(y_test,y_prediction)))"
   ]
  }
 ],
 "metadata": {
  "kernelspec": {
   "display_name": "Python 3 (ipykernel)",
   "language": "python",
   "name": "python3"
  },
  "language_info": {
   "codemirror_mode": {
    "name": "ipython",
    "version": 3
   },
   "file_extension": ".py",
   "mimetype": "text/x-python",
   "name": "python",
   "nbconvert_exporter": "python",
   "pygments_lexer": "ipython3",
   "version": "3.9.7"
  }
 },
 "nbformat": 4,
 "nbformat_minor": 5
}
